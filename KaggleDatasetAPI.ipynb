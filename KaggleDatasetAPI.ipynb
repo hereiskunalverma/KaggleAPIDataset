{
 "cells": [
  {
   "cell_type": "markdown",
   "metadata": {
    "id": "R0d1Fu80GwXs"
   },
   "source": [
    "# prefer official kaggle api docs to check out commands\n",
    "[Kaggle-API](https://github.com/Kaggle/kaggle-api)\n",
    "\n",
    "\n"
   ]
  },
  {
   "cell_type": "code",
   "execution_count": null,
   "metadata": {
    "colab": {
     "base_uri": "https://localhost:8080/"
    },
    "id": "nPqBpBmJqKaF",
    "outputId": "6c53c28c-a5c1-4f95-8b19-a6fbb07090ae"
   },
   "outputs": [
    {
     "name": "stderr",
     "output_type": "stream",
     "text": [
      "Downloading...\n",
      "From: https://drive.google.com/uc?export=download&id=kaggle_json_file_drive_id\n",
      "To: /content/kaggle.json\n",
      "100%|██████████| 67.0/67.0 [00:00<00:00, 28.4kB/s]"
     ]
    },
    {
     "name": "stdout",
     "output_type": "stream",
     "text": [
      "-rw-r--r-- 1 root root 67 Nov  5 17:34 kaggle.json\n"
     ]
    },
    {
     "name": "stderr",
     "output_type": "stream",
     "text": [
      "\n"
     ]
    }
   ],
   "source": [
    "# downloading kaggle.json file from google drive\n",
    "# important do not share this as file contains downloadable link\n",
    "import gdown\n",
    "file = 'google drive shareable link of kaggle.json file'\n",
    "output = 'kaggle.json'\n",
    "gdown.download(file, output, quiet=False) \n",
    "\n",
    "# Let's make sure the kaggle.json file is present.\n",
    "!ls -lha kaggle.json\n",
    "\n",
    "# The Kaggle API client expects this file to be in ~/.kaggle,\n",
    "# so move it there.\n",
    "!mkdir -p ~/.kaggle # uncomment them and run if restarted the kernel\n",
    "!cp kaggle.json ~/.kaggle/ \n",
    "\n",
    "# This permissions change avoids a warning on Kaggle tool startup.\n",
    "!chmod 600 ~/.kaggle/kaggle.json\n",
    "\n",
    "# Copy the dataset locally\n",
    "#!kaggle competitions download titanic -f train.csv\n"
   ]
  }
 ],
 "metadata": {
  "accelerator": "GPU",
  "colab": {
   "collapsed_sections": [],
   "name": "Exercise.ipynb",
   "provenance": [],
   "toc_visible": true
  },
  "kernelspec": {
   "display_name": "Python 3",
   "language": "python",
   "name": "python3"
  },
  "language_info": {
   "codemirror_mode": {
    "name": "ipython",
    "version": 3
   },
   "file_extension": ".py",
   "mimetype": "text/x-python",
   "name": "python",
   "nbconvert_exporter": "python",
   "pygments_lexer": "ipython3",
   "version": "3.7.6"
  }
 },
 "nbformat": 4,
 "nbformat_minor": 1
}
