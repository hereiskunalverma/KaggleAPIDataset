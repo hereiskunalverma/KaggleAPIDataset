{
  "nbformat": 4,
  "nbformat_minor": 0,
  "metadata": {
    "colab": {
      "name": "KerasAPIDataset.ipynb",
      "provenance": []
    },
    "kernelspec": {
      "name": "python3",
      "display_name": "Python 3"
    }
  },
  "cells": [
    {
      "cell_type": "markdown",
      "metadata": {
        "id": "V4NzHKskSrqJ"
      },
      "source": [
        "# Prefer [Kaggle API](https://github.com/Kaggle/kaggle-api) for more command"
      ]
    },
    {
      "cell_type": "code",
      "metadata": {
        "id": "KcYFfzHFSkpW"
      },
      "source": [
        "# to load kaggle API for downloading dataset run the following command\n",
        "#!pip install kaggle --upgrade\n",
        "# Run this cell and select the kaggle.json file downloaded\n",
        "from google.colab import files\n",
        "files.upload() # rerun if kernel is restarted"
      ],
      "execution_count": null,
      "outputs": []
    },
    {
      "cell_type": "code",
      "metadata": {
        "id": "JQRJTuKdTIGC"
      },
      "source": [
        "# Let's make sure the kaggle.json file is present.\n",
        "!ls -lha kaggle.json"
      ],
      "execution_count": null,
      "outputs": []
    },
    {
      "cell_type": "code",
      "metadata": {
        "id": "YjCDBL2_TMHU"
      },
      "source": [
        "# The Kaggle API client expects this file to be in ~/.kaggle,\n",
        "# so move it there.\n",
        "!mkdir -p ~/.kaggle # uncomment them and run if restarted the kernel\n",
        "!cp kaggle.json ~/.kaggle/ \n",
        "\n",
        "# This permissions change avoids a warning on Kaggle tool startup.\n",
        "!chmod 600 ~/.kaggle/kaggle.json"
      ],
      "execution_count": null,
      "outputs": []
    },
    {
      "cell_type": "code",
      "metadata": {
        "id": "mx8-a17ETQ2Y"
      },
      "source": [
        "# List available datasets.\n",
        "!kaggle datasets list"
      ],
      "execution_count": null,
      "outputs": []
    },
    {
      "cell_type": "code",
      "metadata": {
        "id": "ctu9kl5ZTUW9"
      },
      "source": [
        "# download dataset locally\n",
        "!kaggle competitions download \"competition dataset_name\""
      ],
      "execution_count": null,
      "outputs": []
    }
  ]
}